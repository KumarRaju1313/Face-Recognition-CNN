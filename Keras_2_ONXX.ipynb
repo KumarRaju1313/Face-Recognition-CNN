{
 "cells": [
  {
   "cell_type": "code",
   "execution_count": null,
   "metadata": {
    "id": "IJUCc4JvQvOg"
   },
   "outputs": [],
   "source": [
    "!pip install tensorflow\n",
    "!pip install onnx\n",
    "!pip install tf2onnx\n"
   ]
  },
  {
   "cell_type": "code",
   "execution_count": 1,
   "metadata": {
    "id": "kcKwYUd1IwTk"
   },
   "outputs": [],
   "source": [
    "import tensorflow as tf\n",
    "\n",
    "gpus = tf.config.experimental.list_physical_devices('GPU')\n",
    "if gpus:\n",
    "    try:\n",
    "        tf.config.experimental.set_virtual_device_configuration(\n",
    "            gpus[0],\n",
    "            [tf.config.experimental.VirtualDeviceConfiguration(memory_limit=2048)]) # 2048 MB = 2GB\n",
    "    except RuntimeError as e:\n",
    "        print(e)"
   ]
  },
  {
   "cell_type": "code",
   "execution_count": 20,
   "metadata": {
    "colab": {
     "base_uri": "https://localhost:8080/"
    },
    "id": "S2cOzlg4IwN8",
    "outputId": "8e53f30d-b6bb-4b39-ac9d-009eacae0da9"
   },
   "outputs": [
    {
     "name": "stdout",
     "output_type": "stream",
     "text": [
      "Model saved to /content/drive/MyDrive/Model_vgg16.onnx\n"
     ]
    }
   ],
   "source": [
    "import tensorflow as tf\n",
    "import tf2onnx\n",
    "\n",
    "model = tf.keras.models.load_model('/content/drive/MyDrive/Model_vgg16.keras')\n",
    "onnx_model_path = '/content/drive/MyDrive/Model_vgg16.onnx'\n",
    "\n",
    "spec = (tf.TensorSpec((None, 256, 256, 3), tf.float32, name=\"input\"),)\n",
    "model_proto, _ = tf2onnx.convert.from_keras(model, input_signature=spec, output_path=onnx_model_path)\n",
    "\n",
    "print(f\"Model saved to {onnx_model_path}\")\n",
    "\n"
   ]
  },
  {
   "cell_type": "code",
   "execution_count": 1,
   "metadata": {},
   "outputs": [],
   "source": [
    "onnx_model_path = r\"C:\\Users\\Lenovo\\Desktop\\Face_identification\\Main_data\\Model_resnet50v2.onnx\""
   ]
  },
  {
   "cell_type": "code",
   "execution_count": 2,
   "metadata": {
    "id": "quei_PRZIwLl"
   },
   "outputs": [],
   "source": [
    "import onnxruntime as ort\n",
    "\n",
    "session = ort.InferenceSession(onnx_model_path)\n",
    "input_name = session.get_inputs()[0].name\n",
    "output_name = session.get_outputs()[0].name\n"
   ]
  },
  {
   "cell_type": "code",
   "execution_count": 3,
   "metadata": {
    "colab": {
     "base_uri": "https://localhost:8080/"
    },
    "id": "ZXt4KJ2hIwCh",
    "outputId": "bd129eb6-b233-49e9-d862-d0a53187061e"
   },
   "outputs": [
    {
     "name": "stdout",
     "output_type": "stream",
     "text": [
      "Image: chakri (1).jpg\n",
      "Predicted class: chakri\n",
      "Time taken for prediction: 0.200144 seconds\n",
      "Image: chakri (2).jpg\n",
      "Predicted class: chakri\n",
      "Time taken for prediction: 0.063412 seconds\n",
      "Image: gowthami (1).jpg\n",
      "Predicted class: gowthami\n",
      "Time taken for prediction: 0.075404 seconds\n",
      "Image: gowthami (2).jpg\n",
      "Predicted class: gowthami\n",
      "Time taken for prediction: 0.069070 seconds\n",
      "Image: kumar (1).jpg\n",
      "Predicted class: kumar\n",
      "Time taken for prediction: 0.075992 seconds\n",
      "Image: kumar (2).jpg\n",
      "Predicted class: kumar\n",
      "Time taken for prediction: 0.065212 seconds\n",
      "Image: Sri (1).jpg\n",
      "Predicted class: kavya\n",
      "Time taken for prediction: 0.058474 seconds\n",
      "Image: Sri (2).jpg\n",
      "Predicted class: kavya\n",
      "Time taken for prediction: 0.050971 seconds\n",
      "Image: vijay (1).jpg\n",
      "Predicted class: vijay\n",
      "Time taken for prediction: 0.058766 seconds\n",
      "Image: vijay (2).jpg\n",
      "Predicted class: vijay\n",
      "Time taken for prediction: 0.059441 seconds\n",
      "\n",
      "Total time for processing all images: 0.892653 seconds\n"
     ]
    }
   ],
   "source": [
    "import os\n",
    "import numpy as np\n",
    "from tensorflow.keras.preprocessing import image\n",
    "import time\n",
    "\n",
    "class_labels = ['chakri', 'gowthami', 'kavya', 'kumar', 'sai', 'uday', 'vijay']\n",
    "\n",
    "image_folder = r\"C:\\Users\\Lenovo\\Desktop\\Face_identification\\Main_data\\10\"\n",
    "\n",
    "batch_start_time = time.time()\n",
    "\n",
    "for img_name in os.listdir(image_folder):\n",
    "    img_path = os.path.join(image_folder, img_name)\n",
    "\n",
    "    img = image.load_img(img_path, target_size=(256, 256))\n",
    "    input_tensor = image.img_to_array(img)\n",
    "    input_tensor = np.expand_dims(input_tensor, axis=0).astype(np.float32)\n",
    "\n",
    "    start_time = time.time()\n",
    "    output = session.run([output_name], {input_name: input_tensor})[0]\n",
    "    end_time = time.time()\n",
    "\n",
    "    prediction_time = end_time - start_time\n",
    "\n",
    "    probabilities = np.exp(output) / np.sum(np.exp(output), axis=1, keepdims=True)\n",
    "    predicted_class_index = np.argmax(probabilities)\n",
    "\n",
    "    print(f\"Image: {img_name}\")\n",
    "    print(f\"Predicted class: {class_labels[predicted_class_index]}\")\n",
    "    print(f\"Time taken for prediction: {prediction_time:.6f} seconds\")\n",
    "\n",
    "batch_end_time = time.time()\n",
    "total_batch_time = batch_end_time - batch_start_time\n",
    "\n",
    "print(f\"\\nTotal time for processing all images: {total_batch_time:.6f} seconds\")\n"
   ]
  },
  {
   "cell_type": "code",
   "execution_count": null,
   "metadata": {
    "id": "mQbhb0CCIwAp"
   },
   "outputs": [],
   "source": []
  },
  {
   "cell_type": "code",
   "execution_count": null,
   "metadata": {
    "id": "zQrrCja6Iv_a"
   },
   "outputs": [],
   "source": []
  },
  {
   "cell_type": "code",
   "execution_count": null,
   "metadata": {
    "id": "0vaGNAx0Iv9a"
   },
   "outputs": [],
   "source": []
  },
  {
   "cell_type": "code",
   "execution_count": null,
   "metadata": {
    "id": "dKqX4ljWIv7X"
   },
   "outputs": [],
   "source": []
  },
  {
   "cell_type": "code",
   "execution_count": null,
   "metadata": {
    "id": "zlTpAVzVIv5Z"
   },
   "outputs": [],
   "source": []
  },
  {
   "cell_type": "code",
   "execution_count": null,
   "metadata": {
    "id": "nC2UUenaIv3U"
   },
   "outputs": [],
   "source": []
  },
  {
   "cell_type": "code",
   "execution_count": null,
   "metadata": {
    "id": "sk9eGCsvIv1X"
   },
   "outputs": [],
   "source": []
  },
  {
   "cell_type": "code",
   "execution_count": null,
   "metadata": {
    "id": "jdTxTXTEIvy7"
   },
   "outputs": [],
   "source": []
  }
 ],
 "metadata": {
  "accelerator": "GPU",
  "colab": {
   "gpuType": "T4",
   "provenance": []
  },
  "kernelspec": {
   "display_name": "Python 3 (ipykernel)",
   "language": "python",
   "name": "python3"
  },
  "language_info": {
   "codemirror_mode": {
    "name": "ipython",
    "version": 3
   },
   "file_extension": ".py",
   "mimetype": "text/x-python",
   "name": "python",
   "nbconvert_exporter": "python",
   "pygments_lexer": "ipython3",
   "version": "3.8.19"
  }
 },
 "nbformat": 4,
 "nbformat_minor": 4
}
